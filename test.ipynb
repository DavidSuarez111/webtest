{
 "cells": [
  {
   "cell_type": "code",
   "execution_count": 1,
   "metadata": {},
   "outputs": [],
   "source": [
    "import scipy.stats\n",
    "import streamlit as st\n",
    "import time"
   ]
  },
  {
   "cell_type": "code",
   "execution_count": 3,
   "metadata": {},
   "outputs": [
    {
     "name": "stderr",
     "output_type": "stream",
     "text": [
      "2025-02-14 01:57:40.770 Thread 'MainThread': missing ScriptRunContext! This warning can be ignored when running in bare mode.\n",
      "2025-02-14 01:57:40.772 Thread 'MainThread': missing ScriptRunContext! This warning can be ignored when running in bare mode.\n",
      "2025-02-14 01:57:40.825 Thread 'MainThread': missing ScriptRunContext! This warning can be ignored when running in bare mode.\n",
      "2025-02-14 01:57:40.826 Thread 'MainThread': missing ScriptRunContext! This warning can be ignored when running in bare mode.\n",
      "2025-02-14 01:57:40.828 Thread 'MainThread': missing ScriptRunContext! This warning can be ignored when running in bare mode.\n",
      "2025-02-14 01:57:40.828 Thread 'MainThread': missing ScriptRunContext! This warning can be ignored when running in bare mode.\n",
      "2025-02-14 01:57:40.829 Thread 'MainThread': missing ScriptRunContext! This warning can be ignored when running in bare mode.\n",
      "2025-02-14 01:57:40.830 Thread 'MainThread': missing ScriptRunContext! This warning can be ignored when running in bare mode.\n",
      "2025-02-14 01:57:40.830 Thread 'MainThread': missing ScriptRunContext! This warning can be ignored when running in bare mode.\n",
      "2025-02-14 01:57:40.831 Thread 'MainThread': missing ScriptRunContext! This warning can be ignored when running in bare mode.\n",
      "2025-02-14 01:57:40.831 Thread 'MainThread': missing ScriptRunContext! This warning can be ignored when running in bare mode.\n",
      "2025-02-14 01:57:40.832 Thread 'MainThread': missing ScriptRunContext! This warning can be ignored when running in bare mode.\n",
      "2025-02-14 01:57:40.833 Thread 'MainThread': missing ScriptRunContext! This warning can be ignored when running in bare mode.\n",
      "2025-02-14 01:57:40.833 Thread 'MainThread': missing ScriptRunContext! This warning can be ignored when running in bare mode.\n"
     ]
    }
   ],
   "source": [
    "\n",
    "\n",
    "st.header('Lanzar una moneda')\n",
    "\n",
    "chart = st.line_chart([0.5])\n",
    "\n",
    "def toss_coin(n):\n",
    "\n",
    "    trial_outcomes = scipy.stats.bernoulli.rvs(p=0.5, size=n)\n",
    "\n",
    "    mean = None\n",
    "    outcome_no = 0\n",
    "    outcome_1_count = 0\n",
    "\n",
    "    for r in trial_outcomes:\n",
    "        outcome_no +=1\n",
    "        if r == 1:\n",
    "            outcome_1_count += 1\n",
    "        mean = outcome_1_count / outcome_no\n",
    "        chart.add_rows([mean])\n",
    "        time.sleep(0.05)\n",
    "\n",
    "    return mean\n",
    "\n",
    "number_of_trials = st.slider('¿Número de intentos?', 1, 1000, 10)\n",
    "start_button = st.button('Ejecutar')\n",
    "\n",
    "if start_button:\n",
    "    st.write(f'Experimento con {number_of_trials} intentos en curso.')\n",
    "    mean = toss_coin(number_of_trials)"
   ]
  }
 ],
 "metadata": {
  "kernelspec": {
   "display_name": "Python 3",
   "language": "python",
   "name": "python3"
  },
  "language_info": {
   "codemirror_mode": {
    "name": "ipython",
    "version": 3
   },
   "file_extension": ".py",
   "mimetype": "text/x-python",
   "name": "python",
   "nbconvert_exporter": "python",
   "pygments_lexer": "ipython3",
   "version": "3.13.0"
  }
 },
 "nbformat": 4,
 "nbformat_minor": 2
}
